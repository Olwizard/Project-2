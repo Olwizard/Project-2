{
 "cells": [
  {
   "attachments": {},
   "cell_type": "markdown",
   "metadata": {},
   "source": [
    "✍ Для начала давайте поближе познакомимся с данными в таблицах. Напишите запросы, которые позволят ответить на вопросы ниже. В поле для ввода напишите число, которое является ответом на вопрос, а в ноутбук-решение запишите сами запросы."
   ]
  },
  {
   "cell_type": "code",
   "execution_count": 1,
   "metadata": {},
   "outputs": [],
   "source": [
    "import pandas as pd\n",
    "import psycopg2"
   ]
  },
  {
   "cell_type": "code",
   "execution_count": 2,
   "metadata": {},
   "outputs": [],
   "source": [
    "DBNAME = 'project_sql'\n",
    "USER = 'skillfactory'\n",
    "PASSWORD = 'cCkxxLVrDE8EbvjueeMedPKt'\n",
    "HOST = '84.201.134.129'\n",
    "PORT = 5432\n",
    "\n",
    "connection = psycopg2.connect(\n",
    "   dbname=DBNAME,\n",
    "   user=USER,\n",
    "   host=HOST,\n",
    "   password=PASSWORD,\n",
    "   port=PORT\n",
    ")"
   ]
  },
  {
   "attachments": {},
   "cell_type": "markdown",
   "metadata": {},
   "source": [
    "Задание 3.1\n",
    "\n",
    "Сколько вакансий есть в базе?"
   ]
  },
  {
   "cell_type": "code",
   "execution_count": 29,
   "metadata": {},
   "outputs": [
    {
     "data": {
      "text/html": [
       "<div>\n",
       "<style scoped>\n",
       "    .dataframe tbody tr th:only-of-type {\n",
       "        vertical-align: middle;\n",
       "    }\n",
       "\n",
       "    .dataframe tbody tr th {\n",
       "        vertical-align: top;\n",
       "    }\n",
       "\n",
       "    .dataframe thead th {\n",
       "        text-align: right;\n",
       "    }\n",
       "</style>\n",
       "<table border=\"1\" class=\"dataframe\">\n",
       "  <thead>\n",
       "    <tr style=\"text-align: right;\">\n",
       "      <th></th>\n",
       "      <th>count</th>\n",
       "    </tr>\n",
       "  </thead>\n",
       "  <tbody>\n",
       "    <tr>\n",
       "      <th>0</th>\n",
       "      <td>49197</td>\n",
       "    </tr>\n",
       "  </tbody>\n",
       "</table>\n",
       "</div>"
      ],
      "text/plain": [
       "   count\n",
       "0  49197"
      ]
     },
     "execution_count": 29,
     "metadata": {},
     "output_type": "execute_result"
    }
   ],
   "source": [
    "# код запроса представляет из себя строковую переменную\n",
    "query_empl = f'''select \n",
    "                count(id)\n",
    "           from public.vacancies\n",
    "        '''\n",
    "\n",
    "# используем метод read_sql_query, чтобы получить результаты запроса сразу в виде датафрейма\n",
    "vacancies = pd.read_sql_query(query_empl, connection)\n",
    "vacancies"
   ]
  },
  {
   "attachments": {},
   "cell_type": "markdown",
   "metadata": {},
   "source": [
    "Всего вакансий на момент исследования в базе находится 49197 вакансий, что вполне приличное количество для IT профессий"
   ]
  },
  {
   "attachments": {},
   "cell_type": "markdown",
   "metadata": {},
   "source": [
    "Задание 3.2\n",
    "\n",
    "Сколько работодателей?"
   ]
  },
  {
   "cell_type": "code",
   "execution_count": 27,
   "metadata": {},
   "outputs": [
    {
     "data": {
      "text/html": [
       "<div>\n",
       "<style scoped>\n",
       "    .dataframe tbody tr th:only-of-type {\n",
       "        vertical-align: middle;\n",
       "    }\n",
       "\n",
       "    .dataframe tbody tr th {\n",
       "        vertical-align: top;\n",
       "    }\n",
       "\n",
       "    .dataframe thead th {\n",
       "        text-align: right;\n",
       "    }\n",
       "</style>\n",
       "<table border=\"1\" class=\"dataframe\">\n",
       "  <thead>\n",
       "    <tr style=\"text-align: right;\">\n",
       "      <th></th>\n",
       "      <th>count</th>\n",
       "    </tr>\n",
       "  </thead>\n",
       "  <tbody>\n",
       "    <tr>\n",
       "      <th>0</th>\n",
       "      <td>23501</td>\n",
       "    </tr>\n",
       "  </tbody>\n",
       "</table>\n",
       "</div>"
      ],
      "text/plain": [
       "   count\n",
       "0  23501"
      ]
     },
     "execution_count": 27,
     "metadata": {},
     "output_type": "execute_result"
    }
   ],
   "source": [
    "# код запроса представляет из себя строковую переменную\n",
    "query_empl = f'''select \n",
    "                count(id)\n",
    "           from public.employers\n",
    "        '''\n",
    "\n",
    "# используем метод read_sql_query, чтобы получить результаты запроса сразу в виде датафрейма\n",
    "employers = pd.read_sql_query(query_empl, connection)\n",
    "employers"
   ]
  },
  {
   "attachments": {},
   "cell_type": "markdown",
   "metadata": {},
   "source": [
    "Всего работодателей на момент исследования в базе находится 23501, что более чем в два раза меньше, чем вакансий. Значит в среднем каждой фирме требуется два и более специалистов"
   ]
  },
  {
   "attachments": {},
   "cell_type": "markdown",
   "metadata": {},
   "source": [
    "Задание 3.3\n",
    "\n",
    "Сколько регионов?"
   ]
  },
  {
   "cell_type": "code",
   "execution_count": 28,
   "metadata": {},
   "outputs": [
    {
     "data": {
      "text/html": [
       "<div>\n",
       "<style scoped>\n",
       "    .dataframe tbody tr th:only-of-type {\n",
       "        vertical-align: middle;\n",
       "    }\n",
       "\n",
       "    .dataframe tbody tr th {\n",
       "        vertical-align: top;\n",
       "    }\n",
       "\n",
       "    .dataframe thead th {\n",
       "        text-align: right;\n",
       "    }\n",
       "</style>\n",
       "<table border=\"1\" class=\"dataframe\">\n",
       "  <thead>\n",
       "    <tr style=\"text-align: right;\">\n",
       "      <th></th>\n",
       "      <th>count</th>\n",
       "    </tr>\n",
       "  </thead>\n",
       "  <tbody>\n",
       "    <tr>\n",
       "      <th>0</th>\n",
       "      <td>1362</td>\n",
       "    </tr>\n",
       "  </tbody>\n",
       "</table>\n",
       "</div>"
      ],
      "text/plain": [
       "   count\n",
       "0   1362"
      ]
     },
     "execution_count": 28,
     "metadata": {},
     "output_type": "execute_result"
    }
   ],
   "source": [
    "# код запроса представляет из себя строковую переменную\n",
    "query_industr = f'''select \n",
    "                        count(id)\n",
    "           from public.areas\n",
    "        '''\n",
    "\n",
    "# используем метод read_sql_query, чтобы получить результаты запроса сразу в виде датафрейма\n",
    "areas = pd.read_sql_query(query_industr, connection)\n",
    "areas"
   ]
  },
  {
   "attachments": {},
   "cell_type": "markdown",
   "metadata": {},
   "source": [
    "Согласно данным из интернета в России в 22 году было 1118 городов. Исходя из количества регионов в базе IT специалисты уже требуются не только в города но и в меньшие населённые пункты. "
   ]
  },
  {
   "attachments": {},
   "cell_type": "markdown",
   "metadata": {},
   "source": [
    "Задание 3.4\n",
    "\n",
    "Сколько сфер деятельности?"
   ]
  },
  {
   "cell_type": "code",
   "execution_count": 25,
   "metadata": {},
   "outputs": [
    {
     "data": {
      "text/html": [
       "<div>\n",
       "<style scoped>\n",
       "    .dataframe tbody tr th:only-of-type {\n",
       "        vertical-align: middle;\n",
       "    }\n",
       "\n",
       "    .dataframe tbody tr th {\n",
       "        vertical-align: top;\n",
       "    }\n",
       "\n",
       "    .dataframe thead th {\n",
       "        text-align: right;\n",
       "    }\n",
       "</style>\n",
       "<table border=\"1\" class=\"dataframe\">\n",
       "  <thead>\n",
       "    <tr style=\"text-align: right;\">\n",
       "      <th></th>\n",
       "      <th>count</th>\n",
       "    </tr>\n",
       "  </thead>\n",
       "  <tbody>\n",
       "    <tr>\n",
       "      <th>0</th>\n",
       "      <td>294</td>\n",
       "    </tr>\n",
       "  </tbody>\n",
       "</table>\n",
       "</div>"
      ],
      "text/plain": [
       "   count\n",
       "0    294"
      ]
     },
     "execution_count": 25,
     "metadata": {},
     "output_type": "execute_result"
    }
   ],
   "source": [
    "# подсчёт сфер деятельности\n",
    "query_industr = f'''select \n",
    "                        count(id)\n",
    "           from public.industries\n",
    "        '''\n",
    "\n",
    "# используем метод read_sql_query, чтобы получить результаты запроса сразу в виде датафрейма\n",
    "industries = pd.read_sql_query(query_industr, connection)\n",
    "industries"
   ]
  },
  {
   "cell_type": "code",
   "execution_count": 35,
   "metadata": {},
   "outputs": [
    {
     "data": {
      "text/html": [
       "<div>\n",
       "<style scoped>\n",
       "    .dataframe tbody tr th:only-of-type {\n",
       "        vertical-align: middle;\n",
       "    }\n",
       "\n",
       "    .dataframe tbody tr th {\n",
       "        vertical-align: top;\n",
       "    }\n",
       "\n",
       "    .dataframe thead th {\n",
       "        text-align: right;\n",
       "    }\n",
       "</style>\n",
       "<table border=\"1\" class=\"dataframe\">\n",
       "  <thead>\n",
       "    <tr style=\"text-align: right;\">\n",
       "      <th></th>\n",
       "      <th>name</th>\n",
       "      <th>count</th>\n",
       "    </tr>\n",
       "  </thead>\n",
       "  <tbody>\n",
       "    <tr>\n",
       "      <th>0</th>\n",
       "      <td>Разработка программного обеспечения</td>\n",
       "      <td>12499</td>\n",
       "    </tr>\n",
       "    <tr>\n",
       "      <th>1</th>\n",
       "      <td>Системная интеграция,  автоматизации технологи...</td>\n",
       "      <td>11034</td>\n",
       "    </tr>\n",
       "    <tr>\n",
       "      <th>2</th>\n",
       "      <td>Интернет-компания (поисковики, платежные систе...</td>\n",
       "      <td>6413</td>\n",
       "    </tr>\n",
       "    <tr>\n",
       "      <th>3</th>\n",
       "      <td>Банк</td>\n",
       "      <td>2742</td>\n",
       "    </tr>\n",
       "    <tr>\n",
       "      <th>4</th>\n",
       "      <td>Мобильная связь</td>\n",
       "      <td>1585</td>\n",
       "    </tr>\n",
       "    <tr>\n",
       "      <th>5</th>\n",
       "      <td>Кадровые агентства</td>\n",
       "      <td>1143</td>\n",
       "    </tr>\n",
       "    <tr>\n",
       "      <th>6</th>\n",
       "      <td>Консалтинговые услуги</td>\n",
       "      <td>1137</td>\n",
       "    </tr>\n",
       "  </tbody>\n",
       "</table>\n",
       "</div>"
      ],
      "text/plain": [
       "                                                name  count\n",
       "0                Разработка программного обеспечения  12499\n",
       "1  Системная интеграция,  автоматизации технологи...  11034\n",
       "2  Интернет-компания (поисковики, платежные систе...   6413\n",
       "3                                               Банк   2742\n",
       "4                                    Мобильная связь   1585\n",
       "5                                 Кадровые агентства   1143\n",
       "6                              Консалтинговые услуги   1137"
      ]
     },
     "execution_count": 35,
     "metadata": {},
     "output_type": "execute_result"
    }
   ],
   "source": [
    "# Поиск самых популярных сфер деятельности\n",
    "query_industr = f'''select \n",
    "                        i.name,\n",
    "                        count(v.id)\n",
    "           from public.industries i\n",
    "           left join employers_industries ei on ei.industry_id = i.id\n",
    "           left join vacancies v on ei.employer_id = v.employer_id\n",
    "           group by i.name\n",
    "           order by count(v.id) desc\n",
    "        '''\n",
    "\n",
    "# используем метод read_sql_query, чтобы получить результаты запроса сразу в виде датафрейма\n",
    "industries_popular = pd.read_sql_query(query_industr, connection)\n",
    "industries_popular.head(7)"
   ]
  },
  {
   "attachments": {},
   "cell_type": "markdown",
   "metadata": {},
   "source": [
    "Согласно дополнительному исследованию из 294 сфер деятельности в лидерах по востребованности являются разработка и внедрение програмного обеспечения - области деятельности связанные с созданием самих приложений и доведения их до пользователей."
   ]
  },
  {
   "attachments": {},
   "cell_type": "markdown",
   "metadata": {},
   "source": [
    "Задание 4.1\n",
    "\n",
    "Напишите запрос, который позволит узнать, сколько (cnt) вакансий в каждом регионе (area).\n",
    "\n",
    "Выберите пятёрку лидеров по количеству вакансий:"
   ]
  },
  {
   "cell_type": "code",
   "execution_count": 7,
   "metadata": {},
   "outputs": [
    {
     "data": {
      "text/html": [
       "<div>\n",
       "<style scoped>\n",
       "    .dataframe tbody tr th:only-of-type {\n",
       "        vertical-align: middle;\n",
       "    }\n",
       "\n",
       "    .dataframe tbody tr th {\n",
       "        vertical-align: top;\n",
       "    }\n",
       "\n",
       "    .dataframe thead th {\n",
       "        text-align: right;\n",
       "    }\n",
       "</style>\n",
       "<table border=\"1\" class=\"dataframe\">\n",
       "  <thead>\n",
       "    <tr style=\"text-align: right;\">\n",
       "      <th></th>\n",
       "      <th>регион</th>\n",
       "      <th>cnt</th>\n",
       "    </tr>\n",
       "  </thead>\n",
       "  <tbody>\n",
       "    <tr>\n",
       "      <th>0</th>\n",
       "      <td>Москва</td>\n",
       "      <td>5333</td>\n",
       "    </tr>\n",
       "    <tr>\n",
       "      <th>1</th>\n",
       "      <td>Санкт-Петербург</td>\n",
       "      <td>2851</td>\n",
       "    </tr>\n",
       "    <tr>\n",
       "      <th>2</th>\n",
       "      <td>Минск</td>\n",
       "      <td>2112</td>\n",
       "    </tr>\n",
       "    <tr>\n",
       "      <th>3</th>\n",
       "      <td>Новосибирск</td>\n",
       "      <td>2006</td>\n",
       "    </tr>\n",
       "    <tr>\n",
       "      <th>4</th>\n",
       "      <td>Алматы</td>\n",
       "      <td>1892</td>\n",
       "    </tr>\n",
       "  </tbody>\n",
       "</table>\n",
       "</div>"
      ],
      "text/plain": [
       "            регион   cnt\n",
       "0           Москва  5333\n",
       "1  Санкт-Петербург  2851\n",
       "2            Минск  2112\n",
       "3      Новосибирск  2006\n",
       "4           Алматы  1892"
      ]
     },
     "execution_count": 7,
     "metadata": {},
     "output_type": "execute_result"
    }
   ],
   "source": [
    "# код запроса представляет из себя строковую переменную\n",
    "query_vac_are = f'''select \n",
    "                        a.name регион,\n",
    "                        count(v.id) cnt\n",
    "            from public.vacancies v\n",
    "            left join public.areas a on v.area_id = a.id\n",
    "            group by a.name\n",
    "            order by cnt desc\n",
    "        '''\n",
    "# лучше использовать f-строки — так удобнее передавать параметры\n",
    "\n",
    "# используем метод read_sql_query, чтобы получить результаты запроса сразу в виде датафрейма\n",
    "vacanc_areas = pd.read_sql_query(query_vac_are, connection)\n",
    "vacanc_areas.head(5)"
   ]
  },
  {
   "attachments": {},
   "cell_type": "markdown",
   "metadata": {},
   "source": [
    "В столице самое большое количество вакансий, что говорит о динамически развивающемся городе и частично большей плотности населения. "
   ]
  },
  {
   "attachments": {},
   "cell_type": "markdown",
   "metadata": {},
   "source": [
    "Задание 4.2\n",
    "\n",
    "Посмотрим на зарплаты. У какого количества вакансий заполнено хотя бы одно из двух полей с зарплатой?"
   ]
  },
  {
   "cell_type": "code",
   "execution_count": 40,
   "metadata": {},
   "outputs": [
    {
     "data": {
      "text/html": [
       "<div>\n",
       "<style scoped>\n",
       "    .dataframe tbody tr th:only-of-type {\n",
       "        vertical-align: middle;\n",
       "    }\n",
       "\n",
       "    .dataframe tbody tr th {\n",
       "        vertical-align: top;\n",
       "    }\n",
       "\n",
       "    .dataframe thead th {\n",
       "        text-align: right;\n",
       "    }\n",
       "</style>\n",
       "<table border=\"1\" class=\"dataframe\">\n",
       "  <thead>\n",
       "    <tr style=\"text-align: right;\">\n",
       "      <th></th>\n",
       "      <th>salary_from_or_to</th>\n",
       "    </tr>\n",
       "  </thead>\n",
       "  <tbody>\n",
       "    <tr>\n",
       "      <th>0</th>\n",
       "      <td>24073</td>\n",
       "    </tr>\n",
       "  </tbody>\n",
       "</table>\n",
       "</div>"
      ],
      "text/plain": [
       "   salary_from_or_to\n",
       "0              24073"
      ]
     },
     "execution_count": 40,
     "metadata": {},
     "output_type": "execute_result"
    }
   ],
   "source": [
    "# количества вакансий с заполненным хотя бы одним из двух полей с зарплатой\n",
    "query_vac_are = f'''select \n",
    "                        count(*) salary_from_or_to                      \n",
    "            from public.vacancies\n",
    "            where salary_from is NOT NULL or salary_to is NOT NULL\n",
    "        '''\n",
    "# лучше использовать f-строки — так удобнее передавать параметры\n",
    "\n",
    "# используем метод read_sql_query, чтобы получить результаты запроса сразу в виде датафрейма\n",
    "vacanc_employer = pd.read_sql_query(query_vac_are, connection)\n",
    "vacanc_employer"
   ]
  },
  {
   "cell_type": "code",
   "execution_count": 70,
   "metadata": {},
   "outputs": [
    {
     "data": {
      "text/html": [
       "<div>\n",
       "<style scoped>\n",
       "    .dataframe tbody tr th:only-of-type {\n",
       "        vertical-align: middle;\n",
       "    }\n",
       "\n",
       "    .dataframe tbody tr th {\n",
       "        vertical-align: top;\n",
       "    }\n",
       "\n",
       "    .dataframe thead th {\n",
       "        text-align: right;\n",
       "    }\n",
       "</style>\n",
       "<table border=\"1\" class=\"dataframe\">\n",
       "  <thead>\n",
       "    <tr style=\"text-align: right;\">\n",
       "      <th></th>\n",
       "      <th>границы_зарплаты</th>\n",
       "      <th>зарплата</th>\n",
       "    </tr>\n",
       "  </thead>\n",
       "  <tbody>\n",
       "    <tr>\n",
       "      <th>0</th>\n",
       "      <td>нижня и верхняя</td>\n",
       "      <td>10102</td>\n",
       "    </tr>\n",
       "    <tr>\n",
       "      <th>1</th>\n",
       "      <td>верхняя</td>\n",
       "      <td>12690</td>\n",
       "    </tr>\n",
       "    <tr>\n",
       "      <th>2</th>\n",
       "      <td>нижняя</td>\n",
       "      <td>21485</td>\n",
       "    </tr>\n",
       "    <tr>\n",
       "      <th>3</th>\n",
       "      <td>или нижняя или верхняя</td>\n",
       "      <td>24073</td>\n",
       "    </tr>\n",
       "  </tbody>\n",
       "</table>\n",
       "</div>"
      ],
      "text/plain": [
       "         границы_зарплаты  зарплата\n",
       "0         нижня и верхняя     10102\n",
       "1                 верхняя     12690\n",
       "2                  нижняя     21485\n",
       "3  или нижняя или верхняя     24073"
      ]
     },
     "execution_count": 70,
     "metadata": {},
     "output_type": "execute_result"
    }
   ],
   "source": [
    "# Исследование на количество вакансий с границами зарплаты\n",
    "query_vac_are = f'''\n",
    "(    -- вакансии с верхним или нижнем уровенем зарплат\n",
    "    select \n",
    "    'или нижняя или верхняя' границы_зарплаты,\n",
    "        count(*) зарплата                    \n",
    "    from public.vacancies\n",
    "    where salary_from is NOT NULL or salary_to is NOT NULL\n",
    "    \n",
    "    union\n",
    "    -- вакансии с верхним или нижнем уровенем зарплат\n",
    "    select \n",
    "        'нижня и верхняя' ,\n",
    "        count(*)                      \n",
    "    from public.vacancies\n",
    "    where salary_from is NOT NULL and salary_to is NOT NULL\n",
    "    \n",
    "    union\n",
    "    -- вакансии с нижним уровенем зарплат\n",
    "    select \n",
    "        'нижняя',\n",
    "        count(*)                       \n",
    "    from public.vacancies\n",
    "    where salary_from is NOT NULL\n",
    "    \n",
    "    union\n",
    "    -- вакансии с верхним уровенем зарплат\n",
    "    select \n",
    "        'верхняя',\n",
    "        count(*) salary_from                        \n",
    "    from public.vacancies\n",
    "    where salary_to is NOT NULL)\n",
    "    \n",
    "    order by зарплата\n",
    "\n",
    "    '''\n",
    "vacanc_employer = pd.read_sql_query(query_vac_are, connection)\n",
    "vacanc_employer  \n"
   ]
  },
  {
   "attachments": {},
   "cell_type": "markdown",
   "metadata": {},
   "source": [
    "В ходе дополнительного исследования по уровням зарплат выяснилось:\n",
    "1. колличество вакансий в которых жёстко ограничены уровни зарплат более чем в два раза меньше, чем тех в которых не стит жесткого ограния.\n",
    "2. количество вакансий с высоким карьерным ростом почти в два раза больше, чем тех где верхний уровень строго ограничен"
   ]
  },
  {
   "attachments": {},
   "cell_type": "markdown",
   "metadata": {},
   "source": [
    "Задание 4.3\n",
    "\n",
    "Найдите средние значения для нижней и верхней границы зарплатной вилки. Округлите значения до целого числа."
   ]
  },
  {
   "cell_type": "code",
   "execution_count": 22,
   "metadata": {},
   "outputs": [
    {
     "data": {
      "text/html": [
       "<div>\n",
       "<style scoped>\n",
       "    .dataframe tbody tr th:only-of-type {\n",
       "        vertical-align: middle;\n",
       "    }\n",
       "\n",
       "    .dataframe tbody tr th {\n",
       "        vertical-align: top;\n",
       "    }\n",
       "\n",
       "    .dataframe thead th {\n",
       "        text-align: right;\n",
       "    }\n",
       "</style>\n",
       "<table border=\"1\" class=\"dataframe\">\n",
       "  <thead>\n",
       "    <tr style=\"text-align: right;\">\n",
       "      <th></th>\n",
       "      <th>верхняя_граница</th>\n",
       "      <th>нижняя_граница</th>\n",
       "    </tr>\n",
       "  </thead>\n",
       "  <tbody>\n",
       "    <tr>\n",
       "      <th>0</th>\n",
       "      <td>110537.0</td>\n",
       "      <td>71065.0</td>\n",
       "    </tr>\n",
       "  </tbody>\n",
       "</table>\n",
       "</div>"
      ],
      "text/plain": [
       "   верхняя_граница  нижняя_граница\n",
       "0         110537.0         71065.0"
      ]
     },
     "execution_count": 22,
     "metadata": {},
     "output_type": "execute_result"
    }
   ],
   "source": [
    "# код запроса представляет из себя строковую переменную\n",
    "query_vac_are = f'''select \n",
    "                        round(avg(salary_to), 0) верхняя_граница,\n",
    "                        round(avg(salary_from), 0) нижняя_граница\n",
    "                        \n",
    "            from public.vacancies\n",
    "        '''\n",
    "# лучше использовать f-строки — так удобнее передавать параметры\n",
    "\n",
    "# используем метод read_sql_query, чтобы получить результаты запроса сразу в виде датафрейма\n",
    "vacanc_employer = pd.read_sql_query(query_vac_are, connection)\n",
    "vacanc_employer"
   ]
  },
  {
   "attachments": {},
   "cell_type": "markdown",
   "metadata": {},
   "source": [
    "Хотя средняя граница по уровню зарплат - это как средняя температура по больнице, но и этот показатель показывает возможность карьернго роста почти в два раза"
   ]
  },
  {
   "attachments": {},
   "cell_type": "markdown",
   "metadata": {},
   "source": [
    "Задание 4.4\n",
    "\n",
    "Напишите запрос, который выведет количество вакансий для каждого сочетания типа рабочего графика (schedule) и типа трудоустройства (employment), используемого в вакансиях. Какая пара находится на втором месте по популярности?"
   ]
  },
  {
   "cell_type": "code",
   "execution_count": 74,
   "metadata": {},
   "outputs": [
    {
     "data": {
      "text/html": [
       "<div>\n",
       "<style scoped>\n",
       "    .dataframe tbody tr th:only-of-type {\n",
       "        vertical-align: middle;\n",
       "    }\n",
       "\n",
       "    .dataframe tbody tr th {\n",
       "        vertical-align: top;\n",
       "    }\n",
       "\n",
       "    .dataframe thead th {\n",
       "        text-align: right;\n",
       "    }\n",
       "</style>\n",
       "<table border=\"1\" class=\"dataframe\">\n",
       "  <thead>\n",
       "    <tr style=\"text-align: right;\">\n",
       "      <th></th>\n",
       "      <th>тип_рабочего_графика_и_тип_трудоус</th>\n",
       "      <th>cnt</th>\n",
       "    </tr>\n",
       "  </thead>\n",
       "  <tbody>\n",
       "    <tr>\n",
       "      <th>0</th>\n",
       "      <td>Полный день__Полная занятость</td>\n",
       "      <td>35367</td>\n",
       "    </tr>\n",
       "    <tr>\n",
       "      <th>1</th>\n",
       "      <td>Удаленная работа__Полная занятость</td>\n",
       "      <td>7802</td>\n",
       "    </tr>\n",
       "    <tr>\n",
       "      <th>2</th>\n",
       "      <td>Гибкий график__Полная занятость</td>\n",
       "      <td>1593</td>\n",
       "    </tr>\n",
       "    <tr>\n",
       "      <th>3</th>\n",
       "      <td>Удаленная работа__Частичная занятость</td>\n",
       "      <td>1312</td>\n",
       "    </tr>\n",
       "    <tr>\n",
       "      <th>4</th>\n",
       "      <td>Сменный график__Полная занятость</td>\n",
       "      <td>940</td>\n",
       "    </tr>\n",
       "  </tbody>\n",
       "</table>\n",
       "</div>"
      ],
      "text/plain": [
       "      тип_рабочего_графика_и_тип_трудоус    cnt\n",
       "0          Полный день__Полная занятость  35367\n",
       "1     Удаленная работа__Полная занятость   7802\n",
       "2        Гибкий график__Полная занятость   1593\n",
       "3  Удаленная работа__Частичная занятость   1312\n",
       "4       Сменный график__Полная занятость    940"
      ]
     },
     "execution_count": 74,
     "metadata": {},
     "output_type": "execute_result"
    }
   ],
   "source": [
    "# количество вакансий для каждого сочетания типа рабочего графика типа трудоустройства\n",
    "query_vac_are = f'''select \n",
    "                        concat(schedule, '__', employment) тип_рабочего_графика_и_тип_трудоустройства,\n",
    "                        count(id) cnt\n",
    "            from public.vacancies\n",
    "            group by concat(schedule, '__', employment)\n",
    "            order by cnt desc\n",
    "        '''\n",
    "# используем метод read_sql_query, чтобы получить результаты запроса сразу в виде датафрейма\n",
    "vacanc_employer = pd.read_sql_query(query_vac_are, connection)\n",
    "vacanc_employer.head(5)"
   ]
  },
  {
   "attachments": {},
   "cell_type": "markdown",
   "metadata": {},
   "source": [
    "БОльше всего работодатели ищут работников с занятьстью только задачами работодателя, без совмещения с другим местом работы и обязательным присутствием на рабочем месте. Хотя те, кто смог построить работу с удалёнкой и экономией на аренде офисного помещения так же идёт с большим отрывом от остальных типов занятости. Будущее за удалёнкой."
   ]
  },
  {
   "attachments": {},
   "cell_type": "markdown",
   "metadata": {},
   "source": [
    "Задание 4.5\n",
    "\n",
    "Напишите запрос, выводящий значения поля Требуемый опыт работы (experience) в порядке возрастания количества вакансий, в которых указан данный вариант опыта."
   ]
  },
  {
   "cell_type": "code",
   "execution_count": 61,
   "metadata": {},
   "outputs": [
    {
     "data": {
      "text/html": [
       "<div>\n",
       "<style scoped>\n",
       "    .dataframe tbody tr th:only-of-type {\n",
       "        vertical-align: middle;\n",
       "    }\n",
       "\n",
       "    .dataframe tbody tr th {\n",
       "        vertical-align: top;\n",
       "    }\n",
       "\n",
       "    .dataframe thead th {\n",
       "        text-align: right;\n",
       "    }\n",
       "</style>\n",
       "<table border=\"1\" class=\"dataframe\">\n",
       "  <thead>\n",
       "    <tr style=\"text-align: right;\">\n",
       "      <th></th>\n",
       "      <th>опыт_работы</th>\n",
       "      <th>cnt</th>\n",
       "    </tr>\n",
       "  </thead>\n",
       "  <tbody>\n",
       "    <tr>\n",
       "      <th>0</th>\n",
       "      <td>От 1 года до 3 лет</td>\n",
       "      <td>26152</td>\n",
       "    </tr>\n",
       "    <tr>\n",
       "      <th>1</th>\n",
       "      <td>От 3 до 6 лет</td>\n",
       "      <td>14511</td>\n",
       "    </tr>\n",
       "    <tr>\n",
       "      <th>2</th>\n",
       "      <td>Нет опыта</td>\n",
       "      <td>7197</td>\n",
       "    </tr>\n",
       "    <tr>\n",
       "      <th>3</th>\n",
       "      <td>Более 6 лет</td>\n",
       "      <td>1337</td>\n",
       "    </tr>\n",
       "  </tbody>\n",
       "</table>\n",
       "</div>"
      ],
      "text/plain": [
       "          опыт_работы    cnt\n",
       "0  От 1 года до 3 лет  26152\n",
       "1       От 3 до 6 лет  14511\n",
       "2           Нет опыта   7197\n",
       "3         Более 6 лет   1337"
      ]
     },
     "execution_count": 61,
     "metadata": {},
     "output_type": "execute_result"
    }
   ],
   "source": [
    "# код запроса представляет из себя строковую переменную\n",
    "query_vac_are = f'''select \n",
    "                        experience опыт_работы,\n",
    "                        count(id) cnt\n",
    "            from public.vacancies\n",
    "            group by experience\n",
    "            order by cnt desc\n",
    "        '''\n",
    "# лучше использовать f-строки — так удобнее передавать параметры\n",
    "\n",
    "# используем метод read_sql_query, чтобы получить результаты запроса сразу в виде датафрейма\n",
    "vacanc_employer = pd.read_sql_query(query_vac_are, connection)\n",
    "vacanc_employer.head(5)"
   ]
  },
  {
   "attachments": {},
   "cell_type": "markdown",
   "metadata": {},
   "source": [
    "Тех, кто хочет иметь работников с малым опытом работы и минимальной зарплатой на которых можно вешать непосильные задачи гораздо больше тех, кто полагается на специалистов в своём деле. "
   ]
  },
  {
   "attachments": {},
   "cell_type": "markdown",
   "metadata": {},
   "source": [
    "5. Анализ работодателей"
   ]
  },
  {
   "attachments": {},
   "cell_type": "markdown",
   "metadata": {},
   "source": [
    "Задание 5.1\n",
    "\n",
    "Напишите запрос, который позволит узнать, какие работодатели находятся на первом и пятом месте по количеству вакансий."
   ]
  },
  {
   "cell_type": "code",
   "execution_count": 8,
   "metadata": {},
   "outputs": [
    {
     "data": {
      "text/html": [
       "<div>\n",
       "<style scoped>\n",
       "    .dataframe tbody tr th:only-of-type {\n",
       "        vertical-align: middle;\n",
       "    }\n",
       "\n",
       "    .dataframe tbody tr th {\n",
       "        vertical-align: top;\n",
       "    }\n",
       "\n",
       "    .dataframe thead th {\n",
       "        text-align: right;\n",
       "    }\n",
       "</style>\n",
       "<table border=\"1\" class=\"dataframe\">\n",
       "  <thead>\n",
       "    <tr style=\"text-align: right;\">\n",
       "      <th></th>\n",
       "      <th>работадатель</th>\n",
       "      <th>cnt</th>\n",
       "    </tr>\n",
       "  </thead>\n",
       "  <tbody>\n",
       "    <tr>\n",
       "      <th>0</th>\n",
       "      <td>Яндекс</td>\n",
       "      <td>1933</td>\n",
       "    </tr>\n",
       "    <tr>\n",
       "      <th>1</th>\n",
       "      <td>Ростелеком</td>\n",
       "      <td>491</td>\n",
       "    </tr>\n",
       "    <tr>\n",
       "      <th>2</th>\n",
       "      <td>Тинькофф</td>\n",
       "      <td>444</td>\n",
       "    </tr>\n",
       "    <tr>\n",
       "      <th>3</th>\n",
       "      <td>СБЕР</td>\n",
       "      <td>428</td>\n",
       "    </tr>\n",
       "    <tr>\n",
       "      <th>4</th>\n",
       "      <td>Газпром нефть</td>\n",
       "      <td>331</td>\n",
       "    </tr>\n",
       "  </tbody>\n",
       "</table>\n",
       "</div>"
      ],
      "text/plain": [
       "    работадатель   cnt\n",
       "0         Яндекс  1933\n",
       "1     Ростелеком   491\n",
       "2       Тинькофф   444\n",
       "3           СБЕР   428\n",
       "4  Газпром нефть   331"
      ]
     },
     "execution_count": 8,
     "metadata": {},
     "output_type": "execute_result"
    }
   ],
   "source": [
    "# Поиск топ 5 среди работодателей\n",
    "query_vac_are = f'''select \n",
    "                        e.name работадатель,\n",
    "                        count(v.id) cnt\n",
    "            from public.vacancies v\n",
    "            left join public.employers e on v.employer_id = e.id\n",
    "            group by e.name\n",
    "            order by cnt desc\n",
    "        '''\n",
    "# используем метод read_sql_query, чтобы получить результаты запроса сразу в виде датафрейма\n",
    "vacanc_employer = pd.read_sql_query(query_vac_are, connection)\n",
    "vacanc_employer.head(5)"
   ]
  },
  {
   "cell_type": "code",
   "execution_count": 86,
   "metadata": {},
   "outputs": [
    {
     "data": {
      "text/html": [
       "<div>\n",
       "<style scoped>\n",
       "    .dataframe tbody tr th:only-of-type {\n",
       "        vertical-align: middle;\n",
       "    }\n",
       "\n",
       "    .dataframe tbody tr th {\n",
       "        vertical-align: top;\n",
       "    }\n",
       "\n",
       "    .dataframe thead th {\n",
       "        text-align: right;\n",
       "    }\n",
       "</style>\n",
       "<table border=\"1\" class=\"dataframe\">\n",
       "  <thead>\n",
       "    <tr style=\"text-align: right;\">\n",
       "      <th></th>\n",
       "      <th>работадатель</th>\n",
       "      <th>cnt</th>\n",
       "      <th>сфера_деятельности</th>\n",
       "      <th>cnt_i</th>\n",
       "    </tr>\n",
       "  </thead>\n",
       "  <tbody>\n",
       "    <tr>\n",
       "      <th>0</th>\n",
       "      <td>Яндекс</td>\n",
       "      <td>1933</td>\n",
       "      <td>Интернет-компания (поисковики, платежные систе...</td>\n",
       "      <td>1933</td>\n",
       "    </tr>\n",
       "    <tr>\n",
       "      <th>1</th>\n",
       "      <td>Ростелеком</td>\n",
       "      <td>491</td>\n",
       "      <td>Интернет-провайдер</td>\n",
       "      <td>491</td>\n",
       "    </tr>\n",
       "    <tr>\n",
       "      <th>2</th>\n",
       "      <td>Ростелеком</td>\n",
       "      <td>491</td>\n",
       "      <td>Мобильная связь</td>\n",
       "      <td>491</td>\n",
       "    </tr>\n",
       "    <tr>\n",
       "      <th>3</th>\n",
       "      <td>Ростелеком</td>\n",
       "      <td>491</td>\n",
       "      <td>Оптоволоконная связь</td>\n",
       "      <td>491</td>\n",
       "    </tr>\n",
       "    <tr>\n",
       "      <th>4</th>\n",
       "      <td>Ростелеком</td>\n",
       "      <td>491</td>\n",
       "      <td>Фиксированная связь</td>\n",
       "      <td>491</td>\n",
       "    </tr>\n",
       "    <tr>\n",
       "      <th>5</th>\n",
       "      <td>Тинькофф</td>\n",
       "      <td>444</td>\n",
       "      <td>Коллекторская деятельность</td>\n",
       "      <td>444</td>\n",
       "    </tr>\n",
       "    <tr>\n",
       "      <th>6</th>\n",
       "      <td>Тинькофф</td>\n",
       "      <td>444</td>\n",
       "      <td>Банк</td>\n",
       "      <td>444</td>\n",
       "    </tr>\n",
       "    <tr>\n",
       "      <th>7</th>\n",
       "      <td>Тинькофф</td>\n",
       "      <td>444</td>\n",
       "      <td>Интернет-компания (поисковики, платежные систе...</td>\n",
       "      <td>444</td>\n",
       "    </tr>\n",
       "    <tr>\n",
       "      <th>8</th>\n",
       "      <td>Тинькофф</td>\n",
       "      <td>444</td>\n",
       "      <td>Системная интеграция,  автоматизации технологи...</td>\n",
       "      <td>444</td>\n",
       "    </tr>\n",
       "    <tr>\n",
       "      <th>9</th>\n",
       "      <td>Тинькофф</td>\n",
       "      <td>444</td>\n",
       "      <td>Разработка программного обеспечения</td>\n",
       "      <td>444</td>\n",
       "    </tr>\n",
       "    <tr>\n",
       "      <th>10</th>\n",
       "      <td>СБЕР</td>\n",
       "      <td>428</td>\n",
       "      <td>Банк</td>\n",
       "      <td>428</td>\n",
       "    </tr>\n",
       "    <tr>\n",
       "      <th>11</th>\n",
       "      <td>Газпром нефть</td>\n",
       "      <td>331</td>\n",
       "      <td>ГСМ, топливо (розничная торговля)</td>\n",
       "      <td>331</td>\n",
       "    </tr>\n",
       "    <tr>\n",
       "      <th>12</th>\n",
       "      <td>Газпром нефть</td>\n",
       "      <td>331</td>\n",
       "      <td>Нефтепереработка, нефтехимия (производство)</td>\n",
       "      <td>331</td>\n",
       "    </tr>\n",
       "    <tr>\n",
       "      <th>13</th>\n",
       "      <td>Газпром нефть</td>\n",
       "      <td>331</td>\n",
       "      <td>ГСМ, топливо (продвижение, оптовая торговля)</td>\n",
       "      <td>331</td>\n",
       "    </tr>\n",
       "    <tr>\n",
       "      <th>14</th>\n",
       "      <td>ИК СИБИНТЕК</td>\n",
       "      <td>327</td>\n",
       "      <td>Системная интеграция,  автоматизации технологи...</td>\n",
       "      <td>327</td>\n",
       "    </tr>\n",
       "  </tbody>\n",
       "</table>\n",
       "</div>"
      ],
      "text/plain": [
       "     работадатель   cnt                                 сфера_деятельности  \\\n",
       "0          Яндекс  1933  Интернет-компания (поисковики, платежные систе...   \n",
       "1      Ростелеком   491                                 Интернет-провайдер   \n",
       "2      Ростелеком   491                                    Мобильная связь   \n",
       "3      Ростелеком   491                               Оптоволоконная связь   \n",
       "4      Ростелеком   491                                Фиксированная связь   \n",
       "5        Тинькофф   444                         Коллекторская деятельность   \n",
       "6        Тинькофф   444                                               Банк   \n",
       "7        Тинькофф   444  Интернет-компания (поисковики, платежные систе...   \n",
       "8        Тинькофф   444  Системная интеграция,  автоматизации технологи...   \n",
       "9        Тинькофф   444                Разработка программного обеспечения   \n",
       "10           СБЕР   428                                               Банк   \n",
       "11  Газпром нефть   331                  ГСМ, топливо (розничная торговля)   \n",
       "12  Газпром нефть   331        Нефтепереработка, нефтехимия (производство)   \n",
       "13  Газпром нефть   331       ГСМ, топливо (продвижение, оптовая торговля)   \n",
       "14    ИК СИБИНТЕК   327  Системная интеграция,  автоматизации технологи...   \n",
       "\n",
       "    cnt_i  \n",
       "0    1933  \n",
       "1     491  \n",
       "2     491  \n",
       "3     491  \n",
       "4     491  \n",
       "5     444  \n",
       "6     444  \n",
       "7     444  \n",
       "8     444  \n",
       "9     444  \n",
       "10    428  \n",
       "11    331  \n",
       "12    331  \n",
       "13    331  \n",
       "14    327  "
      ]
     },
     "execution_count": 86,
     "metadata": {},
     "output_type": "execute_result"
    }
   ],
   "source": [
    "# Сферы деятельности в топ 5 среди работодателей\n",
    "query_vac_are = f'''select \n",
    "                        e.name работадатель,\n",
    "                        count(v.id) cnt,\n",
    "                        i.name сфера_деятельности,\n",
    "                        count(i.id) cnt_i\n",
    "            from public.vacancies v\n",
    "            left join public.employers e on v.employer_id = e.id\n",
    "            join public.employers_industries ei on ei.employer_id = e.id\n",
    "            join public.industries i on i.id = ei.industry_id\n",
    "            group by 1, 3\n",
    "            order by cnt desc\n",
    "        '''\n",
    "\n",
    "# используем метод read_sql_query, чтобы получить результаты запроса сразу в виде датафрейма\n",
    "vacanc_employer = pd.read_sql_query(query_vac_are, connection)\n",
    "vacanc_employer.head(15)"
   ]
  },
  {
   "attachments": {},
   "cell_type": "markdown",
   "metadata": {},
   "source": [
    "Среди топ пятёрки работодателей сфера деятельности и искомые специальности не все связаны с IT."
   ]
  },
  {
   "attachments": {},
   "cell_type": "markdown",
   "metadata": {},
   "source": [
    "Задание 5.2\n",
    "\n",
    "Напишите запрос, который для каждого региона выведет количество работодателей и вакансий в нём.\n",
    "\n",
    "Среди регионов, в которых нет вакансий, найдите тот, в котором наибольшее количество работодателей. Впишите его название в поле ниже в том виде, который вернул запрос."
   ]
  },
  {
   "cell_type": "code",
   "execution_count": 58,
   "metadata": {},
   "outputs": [
    {
     "data": {
      "text/html": [
       "<div>\n",
       "<style scoped>\n",
       "    .dataframe tbody tr th:only-of-type {\n",
       "        vertical-align: middle;\n",
       "    }\n",
       "\n",
       "    .dataframe tbody tr th {\n",
       "        vertical-align: top;\n",
       "    }\n",
       "\n",
       "    .dataframe thead th {\n",
       "        text-align: right;\n",
       "    }\n",
       "</style>\n",
       "<table border=\"1\" class=\"dataframe\">\n",
       "  <thead>\n",
       "    <tr style=\"text-align: right;\">\n",
       "      <th></th>\n",
       "      <th>регион</th>\n",
       "      <th>кол_работадателей</th>\n",
       "      <th>кол_вакансий</th>\n",
       "    </tr>\n",
       "  </thead>\n",
       "  <tbody>\n",
       "    <tr>\n",
       "      <th>0</th>\n",
       "      <td>Россия</td>\n",
       "      <td>410</td>\n",
       "      <td>0</td>\n",
       "    </tr>\n",
       "  </tbody>\n",
       "</table>\n",
       "</div>"
      ],
      "text/plain": [
       "   регион  кол_работадателей  кол_вакансий\n",
       "0  Россия                410             0"
      ]
     },
     "execution_count": 58,
     "metadata": {},
     "output_type": "execute_result"
    }
   ],
   "source": [
    "# код запроса представляет из себя строковую переменную\n",
    "query_vac_are = f'''select \n",
    "                        a.name регион,\n",
    "                        count(e.name) кол_работадателей,\n",
    "                        count(v.id) кол_вакансий\n",
    "            from public.employers e \n",
    "            left join public.areas a on e.area = a.id\n",
    "            left join public.vacancies v on v.area_id = a.id\n",
    "            group by a.name\n",
    "            having count(v.id) = 0             \n",
    "            order by кол_работадателей desc, кол_вакансий\n",
    "        '''\n",
    "# лучше использовать f-строки — так удобнее передавать параметры\n",
    "\n",
    "# используем метод read_sql_query, чтобы получить результаты запроса сразу в виде датафрейма\n",
    "vacanc_areas_empl = pd.read_sql_query(query_vac_are, connection)\n",
    "vacanc_areas_empl.head(1)"
   ]
  },
  {
   "attachments": {},
   "cell_type": "markdown",
   "metadata": {},
   "source": [
    "Данное исследование говорит о не корректном заполнении базы данных. "
   ]
  },
  {
   "attachments": {},
   "cell_type": "markdown",
   "metadata": {},
   "source": [
    "Задание 5.3\n",
    "\n",
    "Для каждого работодателя посчитайте количество регионов, в которых он публикует свои вакансии.\n",
    "\n",
    "Выберите максимальное значение из получившегося списка."
   ]
  },
  {
   "cell_type": "code",
   "execution_count": 57,
   "metadata": {},
   "outputs": [
    {
     "data": {
      "text/html": [
       "<div>\n",
       "<style scoped>\n",
       "    .dataframe tbody tr th:only-of-type {\n",
       "        vertical-align: middle;\n",
       "    }\n",
       "\n",
       "    .dataframe tbody tr th {\n",
       "        vertical-align: top;\n",
       "    }\n",
       "\n",
       "    .dataframe thead th {\n",
       "        text-align: right;\n",
       "    }\n",
       "</style>\n",
       "<table border=\"1\" class=\"dataframe\">\n",
       "  <thead>\n",
       "    <tr style=\"text-align: right;\">\n",
       "      <th></th>\n",
       "      <th>работадатель</th>\n",
       "      <th>кол_регионов</th>\n",
       "    </tr>\n",
       "  </thead>\n",
       "  <tbody>\n",
       "    <tr>\n",
       "      <th>0</th>\n",
       "      <td>Яндекс</td>\n",
       "      <td>181</td>\n",
       "    </tr>\n",
       "  </tbody>\n",
       "</table>\n",
       "</div>"
      ],
      "text/plain": [
       "  работадатель  кол_регионов\n",
       "0       Яндекс           181"
      ]
     },
     "execution_count": 57,
     "metadata": {},
     "output_type": "execute_result"
    }
   ],
   "source": [
    "# код запроса представляет из себя строковую переменную\n",
    "query_vac_are = f'''select \n",
    "                        e.name работадатель,\n",
    "                        count(distinct v.area_id) кол_регионов\n",
    "            from public.employers e\n",
    "            join public.vacancies v on v.employer_id = e.id\n",
    "            group by e.name            \n",
    "            order by кол_регионов desc\n",
    "        '''\n",
    "# лучше использовать f-строки — так удобнее передавать параметры\n",
    "\n",
    "# используем метод read_sql_query, чтобы получить результаты запроса сразу в виде датафрейма\n",
    "vacanc_areas_empl = pd.read_sql_query(query_vac_are, connection)\n",
    "vacanc_areas_empl.head(1)"
   ]
  },
  {
   "cell_type": "code",
   "execution_count": 34,
   "metadata": {},
   "outputs": [
    {
     "data": {
      "text/html": [
       "<div>\n",
       "<style scoped>\n",
       "    .dataframe tbody tr th:only-of-type {\n",
       "        vertical-align: middle;\n",
       "    }\n",
       "\n",
       "    .dataframe tbody tr th {\n",
       "        vertical-align: top;\n",
       "    }\n",
       "\n",
       "    .dataframe thead th {\n",
       "        text-align: right;\n",
       "    }\n",
       "</style>\n",
       "<table border=\"1\" class=\"dataframe\">\n",
       "  <thead>\n",
       "    <tr style=\"text-align: right;\">\n",
       "      <th></th>\n",
       "      <th>name</th>\n",
       "      <th>schedule</th>\n",
       "      <th>cnt_sched</th>\n",
       "    </tr>\n",
       "  </thead>\n",
       "  <tbody>\n",
       "    <tr>\n",
       "      <th>0</th>\n",
       "      <td>Яндекс</td>\n",
       "      <td>Удаленная работа</td>\n",
       "      <td>1690</td>\n",
       "    </tr>\n",
       "    <tr>\n",
       "      <th>1</th>\n",
       "      <td>Яндекс</td>\n",
       "      <td>Полный день</td>\n",
       "      <td>131</td>\n",
       "    </tr>\n",
       "    <tr>\n",
       "      <th>2</th>\n",
       "      <td>Яндекс</td>\n",
       "      <td>Сменный график</td>\n",
       "      <td>57</td>\n",
       "    </tr>\n",
       "    <tr>\n",
       "      <th>3</th>\n",
       "      <td>Яндекс</td>\n",
       "      <td>Гибкий график</td>\n",
       "      <td>55</td>\n",
       "    </tr>\n",
       "  </tbody>\n",
       "</table>\n",
       "</div>"
      ],
      "text/plain": [
       "     name          schedule  cnt_sched\n",
       "0  Яндекс  Удаленная работа       1690\n",
       "1  Яндекс       Полный день        131\n",
       "2  Яндекс    Сменный график         57\n",
       "3  Яндекс     Гибкий график         55"
      ]
     },
     "execution_count": 34,
     "metadata": {},
     "output_type": "execute_result"
    }
   ],
   "source": [
    "# Основные типы графика работы для компании Яндекс\n",
    "query_vac_are = f'''select \n",
    "                        e.name ,\n",
    "                        v.schedule ,\n",
    "                        count(v.schedule) cnt_sched\n",
    "            from public.employers e\n",
    "            join public.vacancies v on v.employer_id = e.id\n",
    "            where e.name = 'Яндекс'\n",
    "            group by e.name, v.schedule      \n",
    "            order by cnt_sched desc\n",
    "        '''\n",
    "\n",
    "# используем метод read_sql_query, чтобы получить результаты запроса сразу в виде датафрейма\n",
    "vacanc_areas_empl = pd.read_sql_query(query_vac_are, connection)\n",
    "vacanc_areas_empl"
   ]
  },
  {
   "cell_type": "code",
   "execution_count": 35,
   "metadata": {},
   "outputs": [
    {
     "data": {
      "text/html": [
       "<div>\n",
       "<style scoped>\n",
       "    .dataframe tbody tr th:only-of-type {\n",
       "        vertical-align: middle;\n",
       "    }\n",
       "\n",
       "    .dataframe tbody tr th {\n",
       "        vertical-align: top;\n",
       "    }\n",
       "\n",
       "    .dataframe thead th {\n",
       "        text-align: right;\n",
       "    }\n",
       "</style>\n",
       "<table border=\"1\" class=\"dataframe\">\n",
       "  <thead>\n",
       "    <tr style=\"text-align: right;\">\n",
       "      <th></th>\n",
       "      <th>name</th>\n",
       "      <th>employment</th>\n",
       "      <th>cnt_empl</th>\n",
       "    </tr>\n",
       "  </thead>\n",
       "  <tbody>\n",
       "    <tr>\n",
       "      <th>0</th>\n",
       "      <td>Яндекс</td>\n",
       "      <td>Частичная занятость</td>\n",
       "      <td>1135</td>\n",
       "    </tr>\n",
       "    <tr>\n",
       "      <th>1</th>\n",
       "      <td>Яндекс</td>\n",
       "      <td>Полная занятость</td>\n",
       "      <td>786</td>\n",
       "    </tr>\n",
       "    <tr>\n",
       "      <th>2</th>\n",
       "      <td>Яндекс</td>\n",
       "      <td>Стажировка</td>\n",
       "      <td>12</td>\n",
       "    </tr>\n",
       "  </tbody>\n",
       "</table>\n",
       "</div>"
      ],
      "text/plain": [
       "     name           employment  cnt_empl\n",
       "0  Яндекс  Частичная занятость      1135\n",
       "1  Яндекс     Полная занятость       786\n",
       "2  Яндекс           Стажировка        12"
      ]
     },
     "execution_count": 35,
     "metadata": {},
     "output_type": "execute_result"
    }
   ],
   "source": [
    "# Основные типы трудоустройства для компании Яндекс\n",
    "query_vac_are = f'''select \n",
    "                        e.name ,\n",
    "                        v.employment ,\n",
    "                        count(v.employment) cnt_empl\n",
    "            from public.employers e\n",
    "            join public.vacancies v on v.employer_id = e.id\n",
    "            where e.name = 'Яндекс'\n",
    "            group by e.name, v.employment        \n",
    "            order by cnt_empl desc\n",
    "        '''\n",
    "\n",
    "# используем метод read_sql_query, чтобы получить результаты запроса сразу в виде датафрейма\n",
    "vacanc_areas_empl = pd.read_sql_query(query_vac_are, connection)\n",
    "vacanc_areas_empl"
   ]
  },
  {
   "attachments": {},
   "cell_type": "markdown",
   "metadata": {},
   "source": [
    "Компания Яндекс находится на первом месте среди работодателей, с большим отрывом по вакансиям от ближайших компаний. Соответственно и количество регионов, где она представлена самое большое. Соглано дополнительному исследованию такое большое количество регионов, где представлен Яндекс объясняется и тем, что самое большое количество предложений - это удалённая работа и частичная занятость. В каждом регионе не надо организовывать офис."
   ]
  },
  {
   "attachments": {},
   "cell_type": "markdown",
   "metadata": {},
   "source": [
    "Задание 5.4\n",
    "\n",
    "Напишите запрос для подсчёта количества работодателей, у которых не указана сфера деятельности.\n"
   ]
  },
  {
   "cell_type": "code",
   "execution_count": 56,
   "metadata": {},
   "outputs": [
    {
     "data": {
      "text/plain": [
       "cnt    8419\n",
       "Name: 0, dtype: int64"
      ]
     },
     "execution_count": 56,
     "metadata": {},
     "output_type": "execute_result"
    }
   ],
   "source": [
    "# подсчёт количества работодателей, у которых не указана сфера деятельности\n",
    "query_empl_industr = f'''select\n",
    "                        count(*) cnt\n",
    "            from public.employers e\n",
    "            left join public.employers_industries ei on ei.employer_id = e.id\n",
    "            where ei.industry_id is Null\n",
    "\n",
    "        '''\n",
    "# лучше использовать f-строки — так удобнее передавать параметры\n",
    "\n",
    "# используем метод read_sql_query, чтобы получить результаты запроса сразу в виде датафрейма\n",
    "vacanc_empl_industr = pd.read_sql_query(query_empl_industr, connection)\n",
    "vacanc_empl_industr.iloc[0]"
   ]
  },
  {
   "attachments": {},
   "cell_type": "markdown",
   "metadata": {},
   "source": [
    "Большое количество работодателей у которых не указана сфера деятельности скорее связана с тем, что это бюджетные гос организации."
   ]
  },
  {
   "attachments": {},
   "cell_type": "markdown",
   "metadata": {},
   "source": [
    "Задание 5.5\n",
    "\n",
    "Напишите запрос, чтобы узнать название компании, находящейся на третьем месте в алфавитном списке (по названию) компаний, у которых указано четыре сферы деятельности."
   ]
  },
  {
   "cell_type": "code",
   "execution_count": 68,
   "metadata": {},
   "outputs": [
    {
     "data": {
      "text/html": [
       "<div>\n",
       "<style scoped>\n",
       "    .dataframe tbody tr th:only-of-type {\n",
       "        vertical-align: middle;\n",
       "    }\n",
       "\n",
       "    .dataframe tbody tr th {\n",
       "        vertical-align: top;\n",
       "    }\n",
       "\n",
       "    .dataframe thead th {\n",
       "        text-align: right;\n",
       "    }\n",
       "</style>\n",
       "<table border=\"1\" class=\"dataframe\">\n",
       "  <thead>\n",
       "    <tr style=\"text-align: right;\">\n",
       "      <th></th>\n",
       "      <th>name</th>\n",
       "      <th>count</th>\n",
       "    </tr>\n",
       "  </thead>\n",
       "  <tbody>\n",
       "    <tr>\n",
       "      <th>0</th>\n",
       "      <td>101 Интернет</td>\n",
       "      <td>4</td>\n",
       "    </tr>\n",
       "    <tr>\n",
       "      <th>1</th>\n",
       "      <td>21vek.by</td>\n",
       "      <td>4</td>\n",
       "    </tr>\n",
       "    <tr>\n",
       "      <th>2</th>\n",
       "      <td>2ГИС</td>\n",
       "      <td>4</td>\n",
       "    </tr>\n",
       "  </tbody>\n",
       "</table>\n",
       "</div>"
      ],
      "text/plain": [
       "           name  count\n",
       "0  101 Интернет      4\n",
       "1      21vek.by      4\n",
       "2          2ГИС      4"
      ]
     },
     "execution_count": 68,
     "metadata": {},
     "output_type": "execute_result"
    }
   ],
   "source": [
    "# компании, у которых указано четыре сферы деятельности\n",
    "query_empl_industr = f'''select \n",
    "                        distinct e.name,\n",
    "                        count(ei.industry_id)\n",
    "            from public.employers e\n",
    "            left join public.employers_industries ei on ei.employer_id = e.id\n",
    "            group by e.name\n",
    "            having count(ei.industry_id) = 4\n",
    "            order by e.name\n",
    "       \n",
    "        '''\n",
    "\n",
    "# используем метод read_sql_query, чтобы получить результаты запроса сразу в виде датафрейма\n",
    "vacanc_empl_industr = pd.read_sql_query(query_empl_industr, connection)\n",
    "vacanc_empl_industr.head(3)"
   ]
  },
  {
   "attachments": {},
   "cell_type": "markdown",
   "metadata": {},
   "source": [
    "Задание 5.6\n",
    "\n",
    "С помощью запроса выясните, у какого количества работодателей в качестве сферы деятельности указана «Разработка программного обеспечения»."
   ]
  },
  {
   "cell_type": "code",
   "execution_count": 40,
   "metadata": {},
   "outputs": [
    {
     "data": {
      "text/plain": [
       "count    3553\n",
       "Name: 0, dtype: int64"
      ]
     },
     "execution_count": 40,
     "metadata": {},
     "output_type": "execute_result"
    }
   ],
   "source": [
    "# Компании специализирующиеся на разработке программного обеспечения».\n",
    "query_empl_industr = f'''select \n",
    "                        count(i.name)\n",
    "            from public.employers e\n",
    "            left join public.employers_industries ei on ei.employer_id = e.id\n",
    "            left join public.industries i on i.id = ei.industry_id\n",
    "            where i.name = 'Разработка программного обеспечения'\n",
    "      \n",
    "        '''\n",
    "\n",
    "# используем метод read_sql_query, чтобы получить результаты запроса сразу в виде датафрейма\n",
    "vacanc_empl_industr = pd.read_sql_query(query_empl_industr, connection)\n",
    "vacanc_empl_industr.iloc[0]"
   ]
  },
  {
   "cell_type": "code",
   "execution_count": 39,
   "metadata": {},
   "outputs": [
    {
     "data": {
      "text/plain": [
       "count    23501\n",
       "Name: 0, dtype: int64"
      ]
     },
     "execution_count": 39,
     "metadata": {},
     "output_type": "execute_result"
    }
   ],
   "source": [
    "# Компании общее количество\n",
    "query_empl_industr = f'''select \n",
    "                        count(name)\n",
    "            from public.employers\n",
    "            '''\n",
    "\n",
    "# используем метод read_sql_query, чтобы получить результаты запроса сразу в виде датафрейма\n",
    "vacanc_empl_industr = pd.read_sql_query(query_empl_industr, connection)\n",
    "vacanc_empl_industr.iloc[0]"
   ]
  },
  {
   "attachments": {},
   "cell_type": "markdown",
   "metadata": {},
   "source": [
    "Всего 15% компаний от общего количества занимается разработкой программного обеспечения."
   ]
  },
  {
   "attachments": {},
   "cell_type": "markdown",
   "metadata": {},
   "source": [
    "Задание 5.7\n",
    "\n",
    "Для компании «Яндекс» выведите список регионов-миллионников , в которых представлены вакансии компании, вместе с количеством вакансий в этих регионах. Также добавьте строку Total с общим количеством вакансий компании, собранных в этой таблице. Должна получиться выборка такого вида (приведён пример результата для компании SberTech):"
   ]
  },
  {
   "attachments": {},
   "cell_type": "markdown",
   "metadata": {},
   "source": [
    "![](https://lms-cdn.skillfactory.ru/assets/courseware/v1/997f04a95aa6fa168c21c592aa6a69d4/asset-v1:SkillFactory+DST-3.0+28FEB2021+type@asset+block/SQL_pj2_5_1.png)"
   ]
  },
  {
   "cell_type": "code",
   "execution_count": 34,
   "metadata": {},
   "outputs": [
    {
     "data": {
      "text/html": [
       "<div>\n",
       "<style scoped>\n",
       "    .dataframe tbody tr th:only-of-type {\n",
       "        vertical-align: middle;\n",
       "    }\n",
       "\n",
       "    .dataframe tbody tr th {\n",
       "        vertical-align: top;\n",
       "    }\n",
       "\n",
       "    .dataframe thead th {\n",
       "        text-align: right;\n",
       "    }\n",
       "</style>\n",
       "<table border=\"1\" class=\"dataframe\">\n",
       "  <thead>\n",
       "    <tr style=\"text-align: right;\">\n",
       "      <th></th>\n",
       "      <th>name</th>\n",
       "      <th>count</th>\n",
       "    </tr>\n",
       "  </thead>\n",
       "  <tbody>\n",
       "    <tr>\n",
       "      <th>0</th>\n",
       "      <td>Омск</td>\n",
       "      <td>21</td>\n",
       "    </tr>\n",
       "    <tr>\n",
       "      <th>1</th>\n",
       "      <td>Челябинск</td>\n",
       "      <td>22</td>\n",
       "    </tr>\n",
       "    <tr>\n",
       "      <th>2</th>\n",
       "      <td>Красноярск</td>\n",
       "      <td>23</td>\n",
       "    </tr>\n",
       "    <tr>\n",
       "      <th>3</th>\n",
       "      <td>Волгоград</td>\n",
       "      <td>24</td>\n",
       "    </tr>\n",
       "    <tr>\n",
       "      <th>4</th>\n",
       "      <td>Пермь</td>\n",
       "      <td>25</td>\n",
       "    </tr>\n",
       "    <tr>\n",
       "      <th>5</th>\n",
       "      <td>Казань</td>\n",
       "      <td>25</td>\n",
       "    </tr>\n",
       "    <tr>\n",
       "      <th>6</th>\n",
       "      <td>Ростов-на-Дону</td>\n",
       "      <td>25</td>\n",
       "    </tr>\n",
       "    <tr>\n",
       "      <th>7</th>\n",
       "      <td>Уфа</td>\n",
       "      <td>26</td>\n",
       "    </tr>\n",
       "    <tr>\n",
       "      <th>8</th>\n",
       "      <td>Самара</td>\n",
       "      <td>26</td>\n",
       "    </tr>\n",
       "    <tr>\n",
       "      <th>9</th>\n",
       "      <td>Краснодар</td>\n",
       "      <td>30</td>\n",
       "    </tr>\n",
       "    <tr>\n",
       "      <th>10</th>\n",
       "      <td>Воронеж</td>\n",
       "      <td>32</td>\n",
       "    </tr>\n",
       "    <tr>\n",
       "      <th>11</th>\n",
       "      <td>Новосибирск</td>\n",
       "      <td>35</td>\n",
       "    </tr>\n",
       "    <tr>\n",
       "      <th>12</th>\n",
       "      <td>Нижний Новгород</td>\n",
       "      <td>36</td>\n",
       "    </tr>\n",
       "    <tr>\n",
       "      <th>13</th>\n",
       "      <td>Екатеринбург</td>\n",
       "      <td>39</td>\n",
       "    </tr>\n",
       "    <tr>\n",
       "      <th>14</th>\n",
       "      <td>Санкт-Петербург</td>\n",
       "      <td>42</td>\n",
       "    </tr>\n",
       "    <tr>\n",
       "      <th>15</th>\n",
       "      <td>Москва</td>\n",
       "      <td>54</td>\n",
       "    </tr>\n",
       "    <tr>\n",
       "      <th>16</th>\n",
       "      <td>Total</td>\n",
       "      <td>485</td>\n",
       "    </tr>\n",
       "  </tbody>\n",
       "</table>\n",
       "</div>"
      ],
      "text/plain": [
       "               name  count\n",
       "0              Омск     21\n",
       "1         Челябинск     22\n",
       "2        Красноярск     23\n",
       "3         Волгоград     24\n",
       "4             Пермь     25\n",
       "5            Казань     25\n",
       "6    Ростов-на-Дону     25\n",
       "7               Уфа     26\n",
       "8            Самара     26\n",
       "9         Краснодар     30\n",
       "10          Воронеж     32\n",
       "11      Новосибирск     35\n",
       "12  Нижний Новгород     36\n",
       "13     Екатеринбург     39\n",
       "14  Санкт-Петербург     42\n",
       "15           Москва     54\n",
       "16            Total    485"
      ]
     },
     "execution_count": 34,
     "metadata": {},
     "output_type": "execute_result"
    }
   ],
   "source": [
    "# Яндекс в городах миллионниках\n",
    "query_empl_industr = f'''(select \n",
    "                        a.name ,\n",
    "                        count(v.id)\n",
    "            from public.vacancies v\n",
    "            left join public.employers e on v.employer_id = e.id\n",
    "            join public.areas a on a.id = v.area_id\n",
    "            where e.name = 'Яндекс' and\n",
    "            a.name in ('Москва', 'Санкт-Петербург', 'Новосибирск', 'Екатеринбург', 'Казань',\n",
    "            'Нижний Новгород', 'Красноярск', 'Челябинск', 'Самара', 'Уфа', 'Ростов-на-Дону',\n",
    "            'Краснодар', 'Омск', 'Воронеж', 'Пермь', 'Волгоград')\n",
    "            group by a.name\n",
    "            order by a.name)\n",
    "            \n",
    "            UNION\n",
    "            \n",
    "            select \n",
    "                'Total',\n",
    "                count(*)\n",
    "            from public.vacancies v\n",
    "            left join public.employers e on v.employer_id = e.id\n",
    "            join public.areas a on a.id = v.area_id\n",
    "            where e.name = 'Яндекс' and\n",
    "            a.name in ('Москва', 'Санкт-Петербург', 'Новосибирск', 'Екатеринбург', 'Казань',\n",
    "            'Нижний Новгород', 'Красноярск', 'Челябинск', 'Самара', 'Уфа', 'Ростов-на-Дону',\n",
    "            'Краснодар', 'Омск', 'Воронеж', 'Пермь', 'Волгоград')\n",
    "            order by count\n",
    "            \n",
    "        '''\n",
    "\n",
    "# используем метод read_sql_query, чтобы получить результаты запроса сразу в виде датафрейма\n",
    "vacanc_empl_industr = pd.read_sql_query(query_empl_industr, connection)\n",
    "vacanc_empl_industr"
   ]
  },
  {
   "attachments": {},
   "cell_type": "markdown",
   "metadata": {},
   "source": [
    "Если не брать во внимание столицы, количество вакансий в городах миллиониках не сильно отличается скорее всего потому, что Яндекс практикует удалённую работу"
   ]
  },
  {
   "attachments": {},
   "cell_type": "markdown",
   "metadata": {},
   "source": [
    "Задание 6.1\n",
    "\n",
    "Сколько вакансий имеет отношение к данным в названии 'данн' или 'data'"
   ]
  },
  {
   "cell_type": "code",
   "execution_count": 30,
   "metadata": {},
   "outputs": [
    {
     "data": {
      "text/plain": [
       "1771"
      ]
     },
     "execution_count": 30,
     "metadata": {},
     "output_type": "execute_result"
    }
   ],
   "source": [
    "# Количество вакансий для DS\n",
    "query_empl_industr = f'''select\n",
    "                        name vacansy_ds\n",
    "            from public.vacancies\n",
    "            where (name ilike '%data%' or name ilike '%данн%')\n",
    "            order by name\n",
    "       \n",
    "        '''\n",
    "\n",
    "# используем метод read_sql_query, чтобы получить результаты запроса сразу в виде датафрейма\n",
    "vacanc = pd.read_sql_query(query_empl_industr, connection)\n",
    "vacanc.shape[0]"
   ]
  },
  {
   "attachments": {},
   "cell_type": "markdown",
   "metadata": {},
   "source": [
    "Анализ данных явно набирает популярность, среди вакансий. Знать и анализировать деятельность кампаний для принятия правильного направления развития - много значит"
   ]
  },
  {
   "attachments": {},
   "cell_type": "markdown",
   "metadata": {},
   "source": [
    "Задание 6.2\n",
    "\n",
    "Сколько есть подходящих вакансий для начинающего дата-сайентиста?\n",
    "\n",
    "Будем считать вакансиями для дата-сайентистов такие, в названии которых есть хотя бы одно из следующих сочетаний:\n",
    "\n",
    "* ‘data scientist’;\n",
    "* ‘data science’;\n",
    "* ‘исследователь данных’;\n",
    "* ‘ML’ (здесь не нужно брать вакансии по HTML);\n",
    "* ‘machine learning’;\n",
    "* ‘машинн%обучен%’.\n",
    "В следующих заданиях мы продолжим работать с вакансиями по указанному выше условию (уже не учитывая вакансии уровня Junior).\n",
    "\n",
    "Считаем вакансиями для специалистов уровня Junior следующие:\n",
    "\n",
    "* в названии есть слово “junior” или\n",
    "* требуемый опыт — «Нет опыта» или\n",
    "* тип трудоустройства — «Стажировка»."
   ]
  },
  {
   "cell_type": "code",
   "execution_count": 29,
   "metadata": {},
   "outputs": [
    {
     "data": {
      "text/plain": [
       "junior_ds_vacansy    51\n",
       "Name: 0, dtype: int64"
      ]
     },
     "execution_count": 29,
     "metadata": {},
     "output_type": "execute_result"
    }
   ],
   "source": [
    "# Количество вакансий для DS Junior\n",
    "query_empl_industr = f'''select\n",
    "                        count(name) junior_ds_vacansy\n",
    "\n",
    "            from public.vacancies\n",
    "            where ((name ilike '%data scientist%' or name ilike '%data science%' or name ilike '%исследователь данных%')\n",
    "                or ((name like '%ML%') and (name NOT like '%HTML%'))\n",
    "                or (name ilike '%machine learning%')\n",
    "                or (name ilike '%машинн%обучен%')\n",
    "                and (key_skills is NOT NULL))\n",
    "                and (name ilike '%junior%'\n",
    "                or experience like '%Нет опыта%' or employment like '%Стажировка%')\n",
    "\n",
    "       \n",
    "        '''\n",
    "\n",
    "# используем метод read_sql_query, чтобы получить результаты запроса сразу в виде датафрейма\n",
    "vacanc_ds = pd.read_sql_query(query_empl_industr, connection)\n",
    "vacanc_ds.iloc[0]"
   ]
  },
  {
   "attachments": {},
   "cell_type": "markdown",
   "metadata": {},
   "source": [
    "Всего 2,9% вакансий для начинающих DS. Всем надо опытных аналитиков. От их исследования зависит много. (И где тогда набраться опыта?)"
   ]
  },
  {
   "attachments": {},
   "cell_type": "markdown",
   "metadata": {},
   "source": [
    "Задание 6.3\n",
    "\n",
    "Сколько есть вакансий для DS, в которых в качестве ключевого навыка указан SQL или postgres?"
   ]
  },
  {
   "cell_type": "code",
   "execution_count": 22,
   "metadata": {},
   "outputs": [
    {
     "data": {
      "text/plain": [
       "201"
      ]
     },
     "execution_count": 22,
     "metadata": {},
     "output_type": "execute_result"
    }
   ],
   "source": [
    "# Популярность SQL в DS\n",
    "query_empl_industr = f'''select\n",
    "                        name,\n",
    "                        key_skills\n",
    "            from public.vacancies\n",
    "            where ((name ilike '%data scientist%' or name ilike '%data science%' or name ilike '%исследователь данных%')\n",
    "                or ((name like '%ML%') and (name NOT like '%HTML%'))\n",
    "                or (name ilike '%machine learning%')\n",
    "                or (name ilike '%машинн%обучен%')\n",
    "                and (key_skills is NOT NULL))\n",
    "                and (key_skills ilike '%sql%' or key_skills ilike '%postgres%')\n",
    "\n",
    "            order by name\n",
    "       \n",
    "        '''\n",
    "\n",
    "# используем метод read_sql_query, чтобы получить результаты запроса сразу в виде датафрейма\n",
    "vacanc_ds = pd.read_sql_query(query_empl_industr, connection)\n",
    "vacanc_ds.shape[0]"
   ]
  },
  {
   "attachments": {},
   "cell_type": "markdown",
   "metadata": {},
   "source": [
    "11,3% для спецов по SQL от общего числа вакансий для DS. Как-то маловато. Этот тип аналитики не сильно популярен. Или большое количество спецов уже работающих."
   ]
  },
  {
   "attachments": {},
   "cell_type": "markdown",
   "metadata": {},
   "source": [
    "Задание 6.4\n",
    "\n",
    "С помощью запроса, аналогичного предыдущему, проверьте, насколько популярен Python в требованиях работодателей к DS. Вычислите количество вакансий, в которых в качестве ключевого навыка указан Python."
   ]
  },
  {
   "cell_type": "code",
   "execution_count": 21,
   "metadata": {},
   "outputs": [
    {
     "data": {
      "text/plain": [
       "351"
      ]
     },
     "execution_count": 21,
     "metadata": {},
     "output_type": "execute_result"
    }
   ],
   "source": [
    "# Популярность Python в DS\n",
    "query_empl_industr = f'''select\n",
    "                        name,\n",
    "                        key_skills\n",
    "            from public.vacancies\n",
    "            where ((name ilike '%data scientist%' or name ilike '%data science%' or name ilike '%исследователь данных%')\n",
    "                or ((name like '%ML%') and (name NOT like '%HTML%'))\n",
    "                or (name ilike '%machine learning%')\n",
    "                or (name ilike '%машинн%обучен%')\n",
    "                and (key_skills is NOT NULL))\n",
    "                and (key_skills ilike '%python%')\n",
    "\n",
    "            order by name\n",
    "       \n",
    "        '''\n",
    "\n",
    "# используем метод read_sql_query, чтобы получить результаты запроса сразу в виде датафрейма\n",
    "vacanc_ds = pd.read_sql_query(query_empl_industr, connection)\n",
    "vacanc_ds.shape[0]"
   ]
  },
  {
   "attachments": {},
   "cell_type": "markdown",
   "metadata": {},
   "source": [
    "Почти 20% вакансий для DS на Python - пятая часть от рынка вакансий. Хороший показатель. Связан с популярность даного языка и его большими возможностями."
   ]
  },
  {
   "attachments": {},
   "cell_type": "markdown",
   "metadata": {},
   "source": [
    "Задание 6.5\n",
    "\n",
    "Сколько ключевых навыков в среднем указывают в вакансиях для DS?\n",
    "\n",
    "Ответ округлите до двух знаков после точки-разделителя."
   ]
  },
  {
   "cell_type": "code",
   "execution_count": 19,
   "metadata": {},
   "outputs": [
    {
     "data": {
      "text/plain": [
       "round_skills    6.41\n",
       "Name: 0, dtype: float64"
      ]
     },
     "execution_count": 19,
     "metadata": {},
     "output_type": "execute_result"
    }
   ],
   "source": [
    "# Навыки в DS\n",
    "query_empl_industr = f'''select\n",
    "                        round(avg(length(key_skills) - length(replace(key_skills,CHR(9),''))+1), 2) round_skills\n",
    "            from public.vacancies\n",
    "            where ((name ilike '%data scientist%' or name ilike '%data science%' or name ilike '%исследователь данных%')\n",
    "                or ((name like '%ML%') and (name NOT like '%HTML%'))\n",
    "                or (name ilike '%machine learning%')\n",
    "                or (name ilike '%машинн%обучен%')\n",
    "                and (key_skills is NOT NULL))\n",
    "       \n",
    "        '''\n",
    "\n",
    "# используем метод read_sql_query, чтобы получить результаты запроса сразу в виде датафрейма\n",
    "vacanc_ds = pd.read_sql_query(query_empl_industr, connection)\n",
    "vacanc_ds.iloc[0]"
   ]
  },
  {
   "attachments": {},
   "cell_type": "markdown",
   "metadata": {},
   "source": [
    "Дата саентист, судя по количеству предъявляемых навыков должен быть многопрофильным спецом. Хотя знать всё и везде хорошо разбираться - просто не реально."
   ]
  },
  {
   "attachments": {},
   "cell_type": "markdown",
   "metadata": {},
   "source": [
    "Задание 6.6\n",
    "\n",
    "Напишите запрос, позволяющий вычислить, какую зарплату для DS в среднем указывают для каждого типа требуемого опыта (уникальное значение из поля experience).\n",
    "\n",
    "При решении задачи примите во внимание следующее:\n",
    "\n",
    "* Рассматриваем только вакансии, у которых заполнено хотя бы одно из двух полей с зарплатой.\n",
    "* Если заполнены оба поля с зарплатой, считаем зарплату по каждой вакансии как сумму двух полей, делённую на 2. \n",
    "* Если заполнено только одно из полей, его и считаем зарплатой по вакансии.\n",
    "* Если в расчётах участвует null, в результате он тоже даст null (посмотрите, что возвращает запрос select 1 + null).\n",
    "* Чтобы избежать этой ситуации, мы воспользуемся функцией coalesce , которая заменит null на значение, которое мы передадим. Например, посмотрите, что возвращает запрос select 1 + coalesce(null, 0).\n",
    "* Выясните, на какую зарплату в среднем может рассчитывать дата-сайентист с опытом работы от 3 до 6 лет. * * * Результат округлите до целого числа."
   ]
  },
  {
   "cell_type": "code",
   "execution_count": 40,
   "metadata": {},
   "outputs": [
    {
     "data": {
      "text/html": [
       "<div>\n",
       "<style scoped>\n",
       "    .dataframe tbody tr th:only-of-type {\n",
       "        vertical-align: middle;\n",
       "    }\n",
       "\n",
       "    .dataframe tbody tr th {\n",
       "        vertical-align: top;\n",
       "    }\n",
       "\n",
       "    .dataframe thead th {\n",
       "        text-align: right;\n",
       "    }\n",
       "</style>\n",
       "<table border=\"1\" class=\"dataframe\">\n",
       "  <thead>\n",
       "    <tr style=\"text-align: right;\">\n",
       "      <th></th>\n",
       "      <th>experience</th>\n",
       "      <th>salary</th>\n",
       "    </tr>\n",
       "  </thead>\n",
       "  <tbody>\n",
       "    <tr>\n",
       "      <th>0</th>\n",
       "      <td>Более 6 лет</td>\n",
       "      <td>NaN</td>\n",
       "    </tr>\n",
       "    <tr>\n",
       "      <th>1</th>\n",
       "      <td>Нет опыта</td>\n",
       "      <td>74643.0</td>\n",
       "    </tr>\n",
       "    <tr>\n",
       "      <th>2</th>\n",
       "      <td>От 1 года до 3 лет</td>\n",
       "      <td>145236.0</td>\n",
       "    </tr>\n",
       "    <tr>\n",
       "      <th>3</th>\n",
       "      <td>От 3 до 6 лет</td>\n",
       "      <td>243115.0</td>\n",
       "    </tr>\n",
       "  </tbody>\n",
       "</table>\n",
       "</div>"
      ],
      "text/plain": [
       "           experience    salary\n",
       "0         Более 6 лет       NaN\n",
       "1           Нет опыта   74643.0\n",
       "2  От 1 года до 3 лет  145236.0\n",
       "3       От 3 до 6 лет  243115.0"
      ]
     },
     "execution_count": 40,
     "metadata": {},
     "output_type": "execute_result"
    }
   ],
   "source": [
    "# Уровни средней зарплаты в DS\n",
    "query_empl_industr = f'''SELECT \n",
    "                        experience,\n",
    "                        ROUND(AVG(coalesce((vacancies.salary_from + vacancies.salary_to) / 2, \n",
    "                        vacancies.salary_from, vacancies.salary_to)), 0) salary\n",
    "                    FROM vacancies   \n",
    "                    where ((name ilike '%data scientist%' or name ilike '%data science%' or name ilike '%исследователь данных%')\n",
    "                        or ((name like '%ML%') and (name NOT like '%HTML%'))\n",
    "                        or (name ilike '%machine learning%')\n",
    "                        or (name ilike '%машинн%обучен%')\n",
    "                        and (key_skills is NOT NULL))\n",
    "    \n",
    "                    GROUP BY vacancies.experience\n",
    "       \n",
    "        '''\n",
    "\n",
    "# используем метод read_sql_query, чтобы получить результаты запроса сразу в виде датафрейма\n",
    "vacanc_salary = pd.read_sql_query(query_empl_industr, connection)\n",
    "vacanc_salary"
   ]
  },
  {
   "attachments": {},
   "cell_type": "markdown",
   "metadata": {},
   "source": [
    "Опыт даёт хорошую возможность хорошо зарабатывать. Между градациями опыта почти двойное различие уровней зарплаты.И полное отсутствие с опытом от 6 лет. Возможно это связано с новизной этого направления IT специальности."
   ]
  }
 ],
 "metadata": {
  "kernelspec": {
   "display_name": "base",
   "language": "python",
   "name": "python3"
  },
  "language_info": {
   "codemirror_mode": {
    "name": "ipython",
    "version": 3
   },
   "file_extension": ".py",
   "mimetype": "text/x-python",
   "name": "python",
   "nbconvert_exporter": "python",
   "pygments_lexer": "ipython3",
   "version": "3.9.7"
  },
  "orig_nbformat": 4
 },
 "nbformat": 4,
 "nbformat_minor": 2
}
